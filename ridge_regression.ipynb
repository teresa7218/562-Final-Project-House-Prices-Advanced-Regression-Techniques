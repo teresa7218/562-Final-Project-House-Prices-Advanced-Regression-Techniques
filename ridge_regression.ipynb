{
 "cells": [
  {
   "cell_type": "code",
   "execution_count": 1,
   "metadata": {},
   "outputs": [
    {
     "name": "stdout",
     "output_type": "stream",
     "text": [
      "MSSubClass       0\n",
      "LotArea          0\n",
      "OverallQual      0\n",
      "OverallCond      0\n",
      "YearBuilt        0\n",
      "YearRemodAdd     0\n",
      "MasVnrArea       0\n",
      "BsmtFinSF1       0\n",
      "BsmtFinSF2       0\n",
      "BsmtUnfSF        0\n",
      "TotalBsmtSF      0\n",
      "1stFlrSF         0\n",
      "2ndFlrSF         0\n",
      "LowQualFinSF     0\n",
      "GrLivArea        0\n",
      "BsmtFullBath     0\n",
      "BsmtHalfBath     0\n",
      "FullBath         0\n",
      "HalfBath         0\n",
      "BedroomAbvGr     0\n",
      "KitchenAbvGr     0\n",
      "TotRmsAbvGrd     0\n",
      "Fireplaces       0\n",
      "GarageYrBlt      0\n",
      "GarageCars       0\n",
      "GarageArea       0\n",
      "WoodDeckSF       0\n",
      "OpenPorchSF      0\n",
      "EnclosedPorch    0\n",
      "3SsnPorch        0\n",
      "ScreenPorch      0\n",
      "PoolArea         0\n",
      "MiscVal          0\n",
      "MoSold           0\n",
      "YrSold           0\n",
      "SalePrice        0\n",
      "dtype: int64\n"
     ]
    }
   ],
   "source": [
    "# importing required libraries\n",
    "import pandas as pd\n",
    "import matplotlib.pyplot as plt\n",
    "%matplotlib inline\n",
    "\n",
    "# import the train csv saved from the clean up file\n",
    "train_df = pd.read_csv('./new_train.csv')\n",
    "# only select the columns that are number type\n",
    "train_df = train_df.select_dtypes(['number'])\n",
    "# fill in empty or NaN data with the tables mean so it doesn't affect the whole database prediction that much\n",
    "train_df = train_df.fillna(train_df.mean())\n",
    "\n",
    "# do the same with test database\n",
    "test_df = pd.read_csv('./new_test.csv')\n",
    "test_df = test_df.select_dtypes(['number'])\n",
    "test_df = test_df.fillna(test_df.mean())\n",
    "test_df.head()\n",
    "print(train_df.isnull().sum())\n",
    "\n",
    "\n",
    "# find and check if there are still missing values\n",
    "for i, r in train_df.iterrows():\n",
    "    if r.isnull().sum() > 0:\n",
    "        print(i)\n",
    "        print(r)\n",
    "        print()\n",
    "\n",
    "\n",
    "for i, r in test_df.iterrows():\n",
    "    if r.isnull().sum() > 0:\n",
    "        print(i)\n",
    "        print(r)\n",
    "        print()\n"
   ]
  },
  {
   "cell_type": "code",
   "execution_count": 2,
   "metadata": {},
   "outputs": [
    {
     "name": "stdout",
     "output_type": "stream",
     "text": [
      "[[117231.94551114]\n",
      " [152583.27159044]\n",
      " [173046.80259054]\n",
      " [199965.15438838]\n",
      " [195155.99136516]\n",
      " [182382.47732735]\n",
      " [199510.55890442]\n",
      " [171572.02236665]\n",
      " [207585.53538793]\n",
      " [113694.70005096]]\n",
      "Accuracy (R^2): 0.7678875554929404\n"
     ]
    },
    {
     "data": {
      "image/png": "[encoded data removed]",
      "text/plain": [
       "<Figure size 432x288 with 1 Axes>"
      ]
     },
     "metadata": {
      "needs_background": "light"
     },
     "output_type": "display_data"
    }
   ],
   "source": [
    "from sklearn.linear_model import Ridge\n",
    "from sklearn.model_selection import cross_val_score, cross_val_predict\n",
    "from sklearn import metrics\n",
    "import matplotlib.pyplot as plt\n",
    "\n",
    "# create Ridge Regression model\n",
    "ridge_regr = Ridge(alpha=1.0) \n",
    "\n",
    "# define the training data\n",
    "x_train = train_df.drop(['SalePrice'], axis=1)\n",
    "y_train = train_df[['SalePrice']]\n",
    "\n",
    "# fit and predict model to training data\n",
    "ridge_regr.fit(x_train, y_train)\n",
    "predictions = ridge_regr.predict(test_df)\n",
    "\n",
    "# print first ten predictions\n",
    "print(predictions[0:10])\n",
    "\n",
    "# perform 6-fold cross-validation\n",
    "scores = cross_val_score(ridge_regr, train_df.drop(['SalePrice'], axis=1), train_df[['SalePrice']], cv=6)\n",
    "\n",
    "# make cross-validated predictions\n",
    "predictions = cross_val_predict(ridge_regr, train_df.drop(['SalePrice'], axis=1), train_df[['SalePrice']], cv=6)\n",
    "\n",
    "# plot actual vs predicted sale prices\n",
    "plt.scatter(train_df[['SalePrice']], predictions)\n",
    "plt.title(\"Actual vs. Predicted SalePrice--Ridge Regression\")\n",
    "plt.xlabel(\"Actual SalePrice\")\n",
    "plt.ylabel(\"Predicted SalePrice\")\n",
    "\n",
    "# get accuracy of model from cross-validation\n",
    "accuracy = metrics.r2_score(train_df[['SalePrice']], predictions)\n",
    "print(\"Accuracy (R^2):\", accuracy)\n"
   ]
  }
 ],
 "metadata": {
  "kernelspec": {
   "display_name": "Python 3",
   "language": "python",
   "name": "python3"
  },
  "language_info": {
   "codemirror_mode": {
    "name": "ipython",
    "version": 3
   },
   "file_extension": ".py",
   "mimetype": "text/x-python",
   "name": "python",
   "nbconvert_exporter": "python",
   "pygments_lexer": "ipython3",
   "version": "3.9.1"
  },
  "orig_nbformat": 4
 },
 "nbformat": 4,
 "nbformat_minor": 2
}
