{
 "cells": [
  {
   "cell_type": "code",
   "execution_count": 1,
   "metadata": {},
   "outputs": [
    {
     "name": "stdout",
     "output_type": "stream",
     "text": [
      "MSSubClass       0\n",
      "LotArea          0\n",
      "OverallQual      0\n",
      "OverallCond      0\n",
      "YearBuilt        0\n",
      "YearRemodAdd     0\n",
      "MasVnrArea       0\n",
      "BsmtFinSF1       0\n",
      "BsmtFinSF2       0\n",
      "BsmtUnfSF        0\n",
      "TotalBsmtSF      0\n",
      "1stFlrSF         0\n",
      "2ndFlrSF         0\n",
      "LowQualFinSF     0\n",
      "GrLivArea        0\n",
      "BsmtFullBath     0\n",
      "BsmtHalfBath     0\n",
      "FullBath         0\n",
      "HalfBath         0\n",
      "BedroomAbvGr     0\n",
      "KitchenAbvGr     0\n",
      "TotRmsAbvGrd     0\n",
      "Fireplaces       0\n",
      "GarageYrBlt      0\n",
      "GarageCars       0\n",
      "GarageArea       0\n",
      "WoodDeckSF       0\n",
      "OpenPorchSF      0\n",
      "EnclosedPorch    0\n",
      "3SsnPorch        0\n",
      "ScreenPorch      0\n",
      "PoolArea         0\n",
      "MiscVal          0\n",
      "MoSold           0\n",
      "YrSold           0\n",
      "SalePrice        0\n",
      "dtype: int64\n"
     ]
    }
   ],
   "source": [
    "# Importing the required libraries\n",
    "import pandas as pd\n",
    "import matplotlib.pyplot as plt\n",
    "%matplotlib inline\n",
    "train_df = pd.read_csv('./new_train.csv')\n",
    "train_df = train_df.select_dtypes(['number'])\n",
    "train_df = train_df.fillna(train_df.mean())\n",
    "test_df = pd.read_csv('./new_test.csv')\n",
    "test_df = test_df.select_dtypes(['number'])\n",
    "test_df = test_df.fillna(test_df.mean())\n",
    "test_df.head()\n",
    "print(train_df.isnull().sum())\n",
    "\n",
    "# Find missing values\n",
    "for i, r in train_df.iterrows():\n",
    "    if r.isnull().sum() > 0:\n",
    "        print(i)\n",
    "        print(r)\n",
    "        print()\n",
    "\n",
    "\n",
    "for i, r in test_df.iterrows():\n",
    "    if r.isnull().sum() > 0:\n",
    "        print(i)\n",
    "        print(r)\n",
    "        print()\n"
   ]
  },
  {
   "cell_type": "code",
   "execution_count": 2,
   "metadata": {},
   "outputs": [
    {
     "name": "stdout",
     "output_type": "stream",
     "text": [
      "[117121.01720767 152637.97807838 172989.7613465  199937.39413669\n",
      " 195180.58103456 182384.28836171 199534.00561182 171594.65702331\n",
      " 207578.28273731 113690.89640359]\n",
      "Accuracy (R^2): 0.7678387324460562\n"
     ]
    },
    {
     "data": {
      "image/png": "[encoded data removed]",
      "text/plain": [
       "<Figure size 432x288 with 1 Axes>"
      ]
     },
     "metadata": {
      "needs_background": "light"
     },
     "output_type": "display_data"
    }
   ],
   "source": [
    "from sklearn.linear_model import Lasso\n",
    "from sklearn.model_selection import cross_val_score, cross_val_predict\n",
    "from sklearn import metrics\n",
    "import matplotlib.pyplot as plt\n",
    "\n",
    "# Create Lasso Regression model\n",
    "lasso_regr = Lasso(alpha=1.0)  # You can specify the alpha value for Lasso regularization\n",
    "\n",
    "# Prepare the training data\n",
    "x_train = train_df.drop(['SalePrice'], axis=1)\n",
    "y_train = train_df[['SalePrice']]\n",
    "\n",
    "# Fit Lasso Regression model to training data\n",
    "lasso_regr.fit(x_train, y_train)\n",
    "\n",
    "# Make predictions on test data\n",
    "predictions = lasso_regr.predict(test_df)\n",
    "\n",
    "# Print first ten predictions\n",
    "print(predictions[0:10])\n",
    "\n",
    "# Perform 6-fold cross-validation\n",
    "scores = cross_val_score(lasso_regr, train_df.drop(['SalePrice'], axis=1), train_df[['SalePrice']], cv=6)\n",
    "\n",
    "# Make cross-validated predictions\n",
    "predictions = cross_val_predict(lasso_regr, train_df.drop(['SalePrice'], axis=1), train_df[['SalePrice']], cv=6)\n",
    "\n",
    "# Plot actual vs. predicted sale prices\n",
    "plt.scatter(train_df[['SalePrice']], predictions)\n",
    "\n",
    "# Get accuracy of model from cross-validation\n",
    "accuracy = metrics.r2_score(train_df[['SalePrice']], predictions)\n",
    "print(\"Accuracy (R^2):\", accuracy)\n"
   ]
  },
  {
   "cell_type": "code",
   "execution_count": 3,
   "metadata": {},
   "outputs": [
    {
     "ename": "NameError",
     "evalue": "name 'np' is not defined",
     "output_type": "error",
     "traceback": [
      "\u001b[1;31m---------------------------------------------------------------------------\u001b[0m",
      "\u001b[1;31mNameError\u001b[0m                                 Traceback (most recent call last)",
      "\u001b[1;32m<ipython-input-3-606e8ac340d4>\u001b[0m in \u001b[0;36m<module>\u001b[1;34m\u001b[0m\n\u001b[0;32m     17\u001b[0m \u001b[1;33m\u001b[0m\u001b[0m\n\u001b[0;32m     18\u001b[0m \u001b[1;31m# Set weights of irrelevant features to zero\u001b[0m\u001b[1;33m\u001b[0m\u001b[1;33m\u001b[0m\u001b[1;33m\u001b[0m\u001b[0m\n\u001b[1;32m---> 19\u001b[1;33m \u001b[0mcoefficients\u001b[0m\u001b[1;33m[\u001b[0m\u001b[0mcoefficients\u001b[0m \u001b[1;33m==\u001b[0m \u001b[1;36m0\u001b[0m\u001b[1;33m]\u001b[0m \u001b[1;33m=\u001b[0m \u001b[0mnp\u001b[0m\u001b[1;33m.\u001b[0m\u001b[0mnan\u001b[0m\u001b[1;33m\u001b[0m\u001b[1;33m\u001b[0m\u001b[0m\n\u001b[0m\u001b[0;32m     20\u001b[0m \u001b[1;33m\u001b[0m\u001b[0m\n\u001b[0;32m     21\u001b[0m \u001b[1;31m# Sort coefficients by magnitude in ascending order\u001b[0m\u001b[1;33m\u001b[0m\u001b[1;33m\u001b[0m\u001b[1;33m\u001b[0m\u001b[0m\n",
      "\u001b[1;31mNameError\u001b[0m: name 'np' is not defined"
     ]
    }
   ],
   "source": [
    "from sklearn.linear_model import Lasso\n",
    "import matplotlib.pyplot as plt\n",
    "\n",
    "# Create Lasso Regression model\n",
    "lasso_regr = Lasso(alpha=1.0)  # You can specify the alpha value (regularization strength) and other parameters\n",
    "\n",
    "# Prepare the training data\n",
    "x_train = train_df.drop(['SalePrice'], axis=1)\n",
    "y_train = train_df[['SalePrice']]\n",
    "\n",
    "# Fit Lasso Regression model to training data\n",
    "lasso_regr.fit(x_train, y_train)\n",
    "\n",
    "# Get coefficients\n",
    "coefficients = lasso_regr.coef_\n",
    "feature_names = x_train.columns\n",
    "\n",
    "# Set weights of irrelevant features to zero\n",
    "coefficients[coefficients == 0] = np.nan\n",
    "\n",
    "# Sort coefficients by magnitude in ascending order\n",
    "sorted_idx = np.argsort(np.abs(coefficients))\n",
    "\n",
    "# Get top 10 and bottom 10 coefficients\n",
    "bottom_10_idx = sorted_idx[:10]\n",
    "top_10_idx = sorted_idx[-10:]\n",
    "\n",
    "# Concatenate top and bottom coefficients in ascending order\n",
    "selected_idx = np.concatenate([bottom_10_idx, top_10_idx])\n",
    "\n",
    "# Get corresponding feature names\n",
    "selected_features = feature_names[selected_idx]\n",
    "\n",
    "# Get corresponding coefficients\n",
    "selected_coefficients = coefficients[selected_idx]\n",
    "\n",
    "# Plot horizontal bar graph\n",
    "plt.barh(selected_features, selected_coefficients)\n",
    "plt.xlabel('Coefficient')\n",
    "plt.ylabel('Feature')\n",
    "plt.title('Top 10 and Bottom 10 Coefficients in Lasso Regression Model (Ascending Order)')\n",
    "plt.show()\n",
    "\n",
    "# Make predictions on test data\n",
    "predictions = lasso_regr.predict(test_df)\n",
    "\n",
    "# Print first ten predictions\n",
    "print(predictions[0:10])\n"
   ]
  }
 ],
 "metadata": {
  "kernelspec": {
   "display_name": "Python 3",
   "language": "python",
   "name": "python3"
  },
  "language_info": {
   "codemirror_mode": {
    "name": "ipython",
    "version": 3
   },
   "file_extension": ".py",
   "mimetype": "text/x-python",
   "name": "python",
   "nbconvert_exporter": "python",
   "pygments_lexer": "ipython3",
   "version": "3.9.1"
  },
  "orig_nbformat": 4
 },
 "nbformat": 4,
 "nbformat_minor": 2
}
