{
 "cells": [
  {
   "cell_type": "code",
   "execution_count": null,
   "metadata": {},
   "outputs": [],
   "source": [
    "# Importing the required libraries\n",
    "import pandas as pd\n",
    "import matplotlib.pyplot as plt\n",
    "%matplotlib inline\n"
   ]
  },
  {
   "cell_type": "code",
   "execution_count": null,
   "metadata": {},
   "outputs": [],
   "source": [
    "train_df = pd.read_csv('./new_train.csv')\n",
    "train_df = train_df.select_dtypes(['number'])\n",
    "train_df = train_df.fillna(train_df.mean())\n",
    "test_df = pd.read_csv('./new_test.csv')\n",
    "test_df = test_df.select_dtypes(['number'])\n",
    "test_df = test_df.fillna(test_df.mean())\n",
    "test_df.head()\n",
    "print(train_df.isnull().sum())\n",
    "\n"
   ]
  },
  {
   "cell_type": "code",
   "execution_count": null,
   "metadata": {},
   "outputs": [],
   "source": [
    "train_df.info()\n"
   ]
  },
  {
   "cell_type": "code",
   "execution_count": null,
   "metadata": {},
   "outputs": [],
   "source": [
    "test_df.info()"
   ]
  },
  {
   "cell_type": "code",
   "execution_count": null,
   "metadata": {},
   "outputs": [],
   "source": [
    "# Find missing values\n",
    "for i, r in train_df.iterrows():\n",
    "    if r.isnull().sum() > 0:\n",
    "        print(i)\n",
    "        print(r)\n",
    "        print()"
   ]
  },
  {
   "cell_type": "code",
   "execution_count": null,
   "metadata": {},
   "outputs": [],
   "source": [
    "\n",
    "for i, r in test_df.iterrows():\n",
    "    if r.isnull().sum() > 0:\n",
    "        print(i)\n",
    "        print(r)\n",
    "        print()\n"
   ]
  },
  {
   "cell_type": "code",
   "execution_count": null,
   "metadata": {},
   "outputs": [],
   "source": [
    "from sklearn.linear_model import LinearRegression\n",
    "lin_regr = LinearRegression()\n",
    "x_train = train_df.drop(['SalePrice'], axis=1)\n",
    "y_train = train_df[['SalePrice']]\n",
    "lin_regr.fit(x_train, y_train)\n",
    "predictions = lin_regr.predict(test_df)\n",
    "\n",
    "# print first ten predictions\n",
    "predictions[0:10]"
   ]
  },
  {
   "cell_type": "code",
   "execution_count": null,
   "metadata": {},
   "outputs": [],
   "source": []
  },
  {
   "cell_type": "code",
   "execution_count": null,
   "metadata": {},
   "outputs": [],
   "source": [
    "# perform 6-fold cross validation\n",
    "from sklearn.model_selection import cross_val_score, cross_val_predict\n",
    "from sklearn import metrics\n",
    "scores = cross_val_score(lin_regr, train_df.drop(['SalePrice'], axis=1), train_df[['SalePrice']], cv=6)\n",
    "scores"
   ]
  },
  {
   "cell_type": "code",
   "execution_count": null,
   "metadata": {},
   "outputs": [],
   "source": [
    "# Make cross validated predictions\n",
    "predictions = cross_val_predict(lin_regr, train_df.drop(['SalePrice'], axis=1), train_df[['SalePrice']], cv=6)\n",
    "plt.scatter(train_df[['SalePrice']], predictions)"
   ]
  },
  {
   "cell_type": "code",
   "execution_count": null,
   "metadata": {},
   "outputs": [],
   "source": [
    "# get accuracy of model from cross validation\n",
    "accuracy = metrics.r2_score(train_df[['SalePrice']], predictions)\n",
    "accuracy"
   ]
  },
  {
   "cell_type": "code",
   "execution_count": null,
   "metadata": {},
   "outputs": [],
   "source": []
  },
  {
   "cell_type": "code",
   "execution_count": null,
   "metadata": {},
   "outputs": [],
   "source": []
  },
  {
   "cell_type": "code",
   "execution_count": null,
   "metadata": {},
   "outputs": [],
   "source": []
  }
 ],
 "metadata": {
  "kernelspec": {
   "display_name": "Python 3",
   "language": "python",
   "name": "python3"
  },
  "language_info": {
   "codemirror_mode": {
    "name": "ipython",
    "version": 3
   },
   "file_extension": ".py",
   "mimetype": "text/x-python",
   "name": "python",
   "nbconvert_exporter": "python",
   "pygments_lexer": "ipython3",
   "version": "3.9.1"
  },
  "orig_nbformat": 4
 },
 "nbformat": 4,
 "nbformat_minor": 2
}
