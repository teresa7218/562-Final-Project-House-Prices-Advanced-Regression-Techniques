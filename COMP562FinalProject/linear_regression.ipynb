{
 "cells": [
  {
   "cell_type": "code",
   "execution_count": 1,
   "metadata": {},
   "outputs": [],
   "source": [
    "# Importing the required libraries\n",
    "import pandas as pd\n",
    "import matplotlib.pyplot as plt\n",
    "%matplotlib inline\n"
   ]
  },
  {
   "cell_type": "code",
   "execution_count": 2,
   "metadata": {},
   "outputs": [
    {
     "name": "stdout",
     "output_type": "stream",
     "text": [
      "MSSubClass       0\n",
      "LotArea          0\n",
      "OverallQual      0\n",
      "OverallCond      0\n",
      "YearBuilt        0\n",
      "YearRemodAdd     0\n",
      "MasVnrArea       0\n",
      "BsmtFinSF1       0\n",
      "BsmtFinSF2       0\n",
      "BsmtUnfSF        0\n",
      "TotalBsmtSF      0\n",
      "1stFlrSF         0\n",
      "2ndFlrSF         0\n",
      "LowQualFinSF     0\n",
      "GrLivArea        0\n",
      "BsmtFullBath     0\n",
      "BsmtHalfBath     0\n",
      "FullBath         0\n",
      "HalfBath         0\n",
      "BedroomAbvGr     0\n",
      "KitchenAbvGr     0\n",
      "TotRmsAbvGrd     0\n",
      "Fireplaces       0\n",
      "GarageYrBlt      0\n",
      "GarageCars       0\n",
      "GarageArea       0\n",
      "WoodDeckSF       0\n",
      "OpenPorchSF      0\n",
      "EnclosedPorch    0\n",
      "3SsnPorch        0\n",
      "ScreenPorch      0\n",
      "PoolArea         0\n",
      "MiscVal          0\n",
      "MoSold           0\n",
      "YrSold           0\n",
      "SalePrice        0\n",
      "dtype: int64\n"
     ]
    }
   ],
   "source": [
    "train_df = pd.read_csv('./new_train.csv')\n",
    "train_df = train_df.select_dtypes(['number'])\n",
    "train_df = train_df.fillna(train_df.mean())\n",
    "test_df = pd.read_csv('./new_test.csv')\n",
    "test_df = test_df.select_dtypes(['number'])\n",
    "test_df = test_df.fillna(test_df.mean())\n",
    "test_df.head()\n",
    "print(train_df.isnull().sum())\n",
    "\n"
   ]
  },
  {
   "cell_type": "code",
   "execution_count": 3,
   "metadata": {},
   "outputs": [
    {
     "name": "stdout",
     "output_type": "stream",
     "text": [
      "<class 'pandas.core.frame.DataFrame'>\n",
      "RangeIndex: 1460 entries, 0 to 1459\n",
      "Data columns (total 36 columns):\n",
      " #   Column         Non-Null Count  Dtype  \n",
      "---  ------         --------------  -----  \n",
      " 0   MSSubClass     1460 non-null   int64  \n",
      " 1   LotArea        1460 non-null   int64  \n",
      " 2   OverallQual    1460 non-null   int64  \n",
      " 3   OverallCond    1460 non-null   int64  \n",
      " 4   YearBuilt      1460 non-null   int64  \n",
      " 5   YearRemodAdd   1460 non-null   int64  \n",
      " 6   MasVnrArea     1460 non-null   float64\n",
      " 7   BsmtFinSF1     1460 non-null   int64  \n",
      " 8   BsmtFinSF2     1460 non-null   int64  \n",
      " 9   BsmtUnfSF      1460 non-null   int64  \n",
      " 10  TotalBsmtSF    1460 non-null   int64  \n",
      " 11  1stFlrSF       1460 non-null   int64  \n",
      " 12  2ndFlrSF       1460 non-null   int64  \n",
      " 13  LowQualFinSF   1460 non-null   int64  \n",
      " 14  GrLivArea      1460 non-null   int64  \n",
      " 15  BsmtFullBath   1460 non-null   int64  \n",
      " 16  BsmtHalfBath   1460 non-null   int64  \n",
      " 17  FullBath       1460 non-null   int64  \n",
      " 18  HalfBath       1460 non-null   int64  \n",
      " 19  BedroomAbvGr   1460 non-null   int64  \n",
      " 20  KitchenAbvGr   1460 non-null   int64  \n",
      " 21  TotRmsAbvGrd   1460 non-null   int64  \n",
      " 22  Fireplaces     1460 non-null   int64  \n",
      " 23  GarageYrBlt    1460 non-null   float64\n",
      " 24  GarageCars     1460 non-null   int64  \n",
      " 25  GarageArea     1460 non-null   int64  \n",
      " 26  WoodDeckSF     1460 non-null   int64  \n",
      " 27  OpenPorchSF    1460 non-null   int64  \n",
      " 28  EnclosedPorch  1460 non-null   int64  \n",
      " 29  3SsnPorch      1460 non-null   int64  \n",
      " 30  ScreenPorch    1460 non-null   int64  \n",
      " 31  PoolArea       1460 non-null   int64  \n",
      " 32  MiscVal        1460 non-null   int64  \n",
      " 33  MoSold         1460 non-null   int64  \n",
      " 34  YrSold         1460 non-null   int64  \n",
      " 35  SalePrice      1460 non-null   int64  \n",
      "dtypes: float64(2), int64(34)\n",
      "memory usage: 410.8 KB\n"
     ]
    }
   ],
   "source": [
    "train_df.info()\n"
   ]
  },
  {
   "cell_type": "code",
   "execution_count": 4,
   "metadata": {},
   "outputs": [
    {
     "name": "stdout",
     "output_type": "stream",
     "text": [
      "<class 'pandas.core.frame.DataFrame'>\n",
      "RangeIndex: 1459 entries, 0 to 1458\n",
      "Data columns (total 35 columns):\n",
      " #   Column         Non-Null Count  Dtype  \n",
      "---  ------         --------------  -----  \n",
      " 0   MSSubClass     1459 non-null   int64  \n",
      " 1   LotArea        1459 non-null   int64  \n",
      " 2   OverallQual    1459 non-null   int64  \n",
      " 3   OverallCond    1459 non-null   int64  \n",
      " 4   YearBuilt      1459 non-null   int64  \n",
      " 5   YearRemodAdd   1459 non-null   int64  \n",
      " 6   MasVnrArea     1459 non-null   float64\n",
      " 7   BsmtFinSF1     1459 non-null   float64\n",
      " 8   BsmtFinSF2     1459 non-null   float64\n",
      " 9   BsmtUnfSF      1459 non-null   float64\n",
      " 10  TotalBsmtSF    1459 non-null   float64\n",
      " 11  1stFlrSF       1459 non-null   int64  \n",
      " 12  2ndFlrSF       1459 non-null   int64  \n",
      " 13  LowQualFinSF   1459 non-null   int64  \n",
      " 14  GrLivArea      1459 non-null   int64  \n",
      " 15  BsmtFullBath   1459 non-null   float64\n",
      " 16  BsmtHalfBath   1459 non-null   float64\n",
      " 17  FullBath       1459 non-null   int64  \n",
      " 18  HalfBath       1459 non-null   int64  \n",
      " 19  BedroomAbvGr   1459 non-null   int64  \n",
      " 20  KitchenAbvGr   1459 non-null   int64  \n",
      " 21  TotRmsAbvGrd   1459 non-null   int64  \n",
      " 22  Fireplaces     1459 non-null   int64  \n",
      " 23  GarageYrBlt    1459 non-null   float64\n",
      " 24  GarageCars     1459 non-null   float64\n",
      " 25  GarageArea     1459 non-null   float64\n",
      " 26  WoodDeckSF     1459 non-null   int64  \n",
      " 27  OpenPorchSF    1459 non-null   int64  \n",
      " 28  EnclosedPorch  1459 non-null   int64  \n",
      " 29  3SsnPorch      1459 non-null   int64  \n",
      " 30  ScreenPorch    1459 non-null   int64  \n",
      " 31  PoolArea       1459 non-null   int64  \n",
      " 32  MiscVal        1459 non-null   int64  \n",
      " 33  MoSold         1459 non-null   int64  \n",
      " 34  YrSold         1459 non-null   int64  \n",
      "dtypes: float64(10), int64(25)\n",
      "memory usage: 399.1 KB\n"
     ]
    }
   ],
   "source": [
    "test_df.info()"
   ]
  },
  {
   "cell_type": "code",
   "execution_count": 5,
   "metadata": {},
   "outputs": [],
   "source": [
    "# Find missing values\n",
    "for i, r in train_df.iterrows():\n",
    "    if r.isnull().sum() > 0:\n",
    "        print(i)\n",
    "        print(r)\n",
    "        print()"
   ]
  },
  {
   "cell_type": "code",
   "execution_count": 6,
   "metadata": {},
   "outputs": [],
   "source": [
    "\n",
    "for i, r in test_df.iterrows():\n",
    "    if r.isnull().sum() > 0:\n",
    "        print(i)\n",
    "        print(r)\n",
    "        print()\n"
   ]
  },
  {
   "cell_type": "code",
   "execution_count": 7,
   "metadata": {},
   "outputs": [
    {
     "data": {
      "text/plain": [
       "array([[117100.88679572],\n",
       "       [152628.41484955],\n",
       "       [172977.41968973],\n",
       "       [199929.90079074],\n",
       "       [195180.37216015],\n",
       "       [182385.36678819],\n",
       "       [199538.54436498],\n",
       "       [171598.53084787],\n",
       "       [207571.27091107],\n",
       "       [113689.90272705]])"
      ]
     },
     "execution_count": 7,
     "metadata": {},
     "output_type": "execute_result"
    }
   ],
   "source": [
    "from sklearn.linear_model import LinearRegression\n",
    "lin_regr = LinearRegression()\n",
    "x_train = train_df.drop(['SalePrice'], axis=1)\n",
    "y_train = train_df[['SalePrice']]\n",
    "lin_regr.fit(x_train, y_train)\n",
    "predictions = lin_regr.predict(test_df)\n",
    "\n",
    "# print first ten predictions\n",
    "predictions[0:10]"
   ]
  },
  {
   "cell_type": "code",
   "execution_count": 8,
   "metadata": {},
   "outputs": [
    {
     "data": {
      "text/plain": [
       "array([0.85677815, 0.85669093, 0.78990731, 0.81651244, 0.75942651,\n",
       "       0.48378118])"
      ]
     },
     "execution_count": 8,
     "metadata": {},
     "output_type": "execute_result"
    }
   ],
   "source": [
    "# perform 6-fold cross validation\n",
    "from sklearn.model_selection import cross_val_score, cross_val_predict\n",
    "from sklearn import metrics\n",
    "scores = cross_val_score(lin_regr, train_df.drop(['SalePrice'], axis=1), train_df[['SalePrice']], cv=6)\n",
    "scores"
   ]
  },
  {
   "cell_type": "code",
   "execution_count": 9,
   "metadata": {},
   "outputs": [
    {
     "data": {
      "text/plain": [
       "<matplotlib.collections.PathCollection at 0x1e587ff1370>"
      ]
     },
     "execution_count": 9,
     "metadata": {},
     "output_type": "execute_result"
    },
    {
     "data": {
      "image/png": "[encoded data removed]",
      "text/plain": [
       "<Figure size 432x288 with 1 Axes>"
      ]
     },
     "metadata": {
      "needs_background": "light"
     },
     "output_type": "display_data"
    }
   ],
   "source": [
    "# Make cross validated predictions\n",
    "predictions = cross_val_predict(lin_regr, train_df.drop(['SalePrice'], axis=1), train_df[['SalePrice']], cv=6)\n",
    "plt.scatter(train_df[['SalePrice']], predictions)"
   ]
  },
  {
   "cell_type": "code",
   "execution_count": 10,
   "metadata": {},
   "outputs": [
    {
     "data": {
      "text/plain": [
       "0.7678426505657636"
      ]
     },
     "execution_count": 10,
     "metadata": {},
     "output_type": "execute_result"
    }
   ],
   "source": [
    "# get accuracy of model from cross validation\n",
    "accuracy = metrics.r2_score(train_df[['SalePrice']], predictions)\n",
    "accuracy"
   ]
  },
  {
   "cell_type": "code",
   "execution_count": null,
   "metadata": {},
   "outputs": [],
   "source": []
  }
 ],
 "metadata": {
  "kernelspec": {
   "display_name": "Python 3",
   "language": "python",
   "name": "python3"
  },
  "language_info": {
   "codemirror_mode": {
    "name": "ipython",
    "version": 3
   },
   "file_extension": ".py",
   "mimetype": "text/x-python",
   "name": "python",
   "nbconvert_exporter": "python",
   "pygments_lexer": "ipython3",
   "version": "3.9.1"
  },
  "orig_nbformat": 4
 },
 "nbformat": 4,
 "nbformat_minor": 2
}
